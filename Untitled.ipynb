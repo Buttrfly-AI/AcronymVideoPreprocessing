{
 "cells": [
  {
   "cell_type": "code",
   "execution_count": 5,
   "metadata": {
    "Collapsed": "false"
   },
   "outputs": [
    {
     "ename": "SyntaxError",
     "evalue": "invalid syntax (webapp2.py, line 571)",
     "output_type": "error",
     "traceback": [
      "Traceback \u001b[0;36m(most recent call last)\u001b[0m:\n",
      "  File \u001b[1;32m\"/opt/conda/lib/python3.7/site-packages/IPython/core/interactiveshell.py\"\u001b[0m, line \u001b[1;32m3331\u001b[0m, in \u001b[1;35mrun_code\u001b[0m\n    exec(code_obj, self.user_global_ns, self.user_ns)\n",
      "\u001b[0;36m  File \u001b[0;32m\"<ipython-input-5-b06fd728069b>\"\u001b[0;36m, line \u001b[0;32m4\u001b[0;36m, in \u001b[0;35m<module>\u001b[0;36m\u001b[0m\n\u001b[0;31m    import webapp2\u001b[0m\n",
      "\u001b[0;36m  File \u001b[0;32m\"/opt/conda/lib/python3.7/site-packages/webapp2.py\"\u001b[0;36m, line \u001b[0;32m571\u001b[0m\n\u001b[0;31m    except Exception, e:\u001b[0m\n\u001b[0m                    ^\u001b[0m\n\u001b[0;31mSyntaxError\u001b[0m\u001b[0;31m:\u001b[0m invalid syntax\n"
     ]
    }
   ],
   "source": [
    "import logging\n",
    "import os\n",
    "import cloudstorage as gcs\n",
    "import webapp2\n",
    "\n",
    "from google.appengine.api import app_identity"
   ]
  },
  {
   "cell_type": "code",
   "execution_count": 4,
   "metadata": {
    "Collapsed": "false"
   },
   "outputs": [
    {
     "name": "stdout",
     "output_type": "stream",
     "text": [
      "Collecting webapp2\n",
      "  Downloading webapp2-2.5.2.tar.gz (191 kB)\n",
      "\u001b[K     |████████████████████████████████| 191 kB 3.3 MB/s eta 0:00:01\n",
      "\u001b[?25hBuilding wheels for collected packages: webapp2\n",
      "  Building wheel for webapp2 (setup.py) ... \u001b[?25ldone\n",
      "\u001b[?25h  Created wheel for webapp2: filename=webapp2-2.5.2-py3-none-any.whl size=64817 sha256=f419fbe1ff8a0ef5b723f69302778a63d02c334ad358c87a1668f55038c0753e\n",
      "  Stored in directory: /home/jupyter/.cache/pip/wheels/eb/6c/d8/28229aff19e35709fc0b9bdfeb71fd3a16b9db5cb628bffeb9\n",
      "Successfully built webapp2\n",
      "Installing collected packages: webapp2\n",
      "Successfully installed webapp2-2.5.2\n"
     ]
    }
   ],
   "source": [
    "!pip install webapp2"
   ]
  },
  {
   "cell_type": "code",
   "execution_count": null,
   "metadata": {
    "Collapsed": "false"
   },
   "outputs": [],
   "source": []
  }
 ],
 "metadata": {
  "kernelspec": {
   "display_name": "Python 3",
   "language": "python",
   "name": "python3"
  },
  "language_info": {
   "codemirror_mode": {
    "name": "ipython",
    "version": 3
   },
   "file_extension": ".py",
   "mimetype": "text/x-python",
   "name": "python",
   "nbconvert_exporter": "python",
   "pygments_lexer": "ipython3",
   "version": "3.7.6"
  }
 },
 "nbformat": 4,
 "nbformat_minor": 4
}
