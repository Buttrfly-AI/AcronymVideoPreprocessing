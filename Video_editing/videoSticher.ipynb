{
 "cells": [
  {
   "cell_type": "code",
   "execution_count": 8,
   "metadata": {},
   "outputs": [
    {
     "name": "stderr",
     "output_type": "stream",
     "text": [
      "chunk:  18%|█▊        | 60/334 [00:00<00:00, 596.15it/s, now=None]"
     ]
    },
    {
     "name": "stdout",
     "output_type": "stream",
     "text": [
      "Moviepy - Building video concatenated_video.mp4.\n",
      "MoviePy - Writing audio in concatenated_videoTEMP_MPY_wvf_snd.mp3\n"
     ]
    },
    {
     "name": "stderr",
     "output_type": "stream",
     "text": [
      "                                                                   "
     ]
    },
    {
     "name": "stdout",
     "output_type": "stream",
     "text": [
      "MoviePy - Done.\n",
      "Moviepy - Writing video concatenated_video.mp4\n",
      "\n",
      "Moviepy - Done !\n",
      "Moviepy - video ready concatenated_video.mp4\n"
     ]
    },
    {
     "name": "stderr",
     "output_type": "stream",
     "text": [
      "\r"
     ]
    }
   ],
   "source": [
    "import moviepy\n",
    "from moviepy.editor import *\n",
    "from moviepy.editor import VideoFileClip,AudioFileClip, concatenate_videoclips\n",
    "# part_1_whole.mp4\n",
    "# part_2_final.mp4\n",
    "# part_3_final.mp4\n",
    "\n",
    "\n",
    "clip1 = VideoFileClip(\"part_1_whole.mp4\")\n",
    "clip1_audio = AudioFileClip('one_five.wav')\n",
    "clip1.audio = clip1_audio\n",
    "\n",
    "\n",
    "clip2 = VideoFileClip(\"part_2_final.mp4\")\n",
    "clip2_audio = AudioFileClip('five_ten.wav')\n",
    "clip2.audio = clip2_audio\n",
    "\n",
    "\n",
    "clip3 = VideoFileClip(\"part_3_final.mp4\")\n",
    "clip2_audio = AudioFileClip('ten_fifteen.wav')\n",
    "clip3.audio = clip2_audio\n",
    "\n",
    "final_clip = concatenate_videoclips([clip1,clip2,clip3])\n",
    "final_clip.write_videofile(\"concatenated_video.mp4\")"
   ]
  }
 ],
 "metadata": {
  "kernelspec": {
   "display_name": "Python 3",
   "language": "python",
   "name": "python3"
  },
  "language_info": {
   "codemirror_mode": {
    "name": "ipython",
    "version": 3
   },
   "file_extension": ".py",
   "mimetype": "text/x-python",
   "name": "python",
   "nbconvert_exporter": "python",
   "pygments_lexer": "ipython3",
   "version": "3.7.6"
  }
 },
 "nbformat": 4,
 "nbformat_minor": 4
}
